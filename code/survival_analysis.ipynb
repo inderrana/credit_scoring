{
 "cells": [
  {
   "cell_type": "markdown",
   "metadata": {},
   "source": [
    "<img src=https://www.ieseg.fr/wp-content/uploads/IESEG-Logo-2012-rgb.jpg width=\"500\">\n"
   ]
  },
  {
   "cell_type": "markdown",
   "metadata": {},
   "source": [
    "## IESEG School of Management"
   ]
  },
  {
   "cell_type": "markdown",
   "metadata": {},
   "source": [
    "## Credit Scoring - Individual Assignment"
   ]
  },
  {
   "cell_type": "markdown",
   "metadata": {},
   "source": [
    "#### Project Description\n",
    "1) Apply survival analysis techniques learned in class"
   ]
  },
  {
   "cell_type": "markdown",
   "metadata": {},
   "source": [
    "### Introduction:\n",
    "### Survival Analysis: Survival analysis is a branch of statistics for analyzing the expected duration of time until one event occurs, such as death in biological organisms and failure in mechanical systems.\n",
    "\n",
    "\n",
    "In Short it is used to predict time until event occurs. Some of the use cases can involve:\n",
    "- Common business applications:\n",
    "- Customer churn (customer lifetime value)\n",
    "- Time until default\n",
    "- Time of early repayment\n",
    "- Time of next cash-flow\n",
    "- Engineering: Time until machine failure\n",
    "- Insurance: Time until claim"
   ]
  },
  {
   "cell_type": "markdown",
   "metadata": {},
   "source": [
    "### 1) Prep the environement"
   ]
  },
  {
   "cell_type": "code",
   "execution_count": 26,
   "metadata": {},
   "outputs": [
    {
     "name": "stdout",
     "output_type": "stream",
     "text": [
      "c:\\Users\\irana\\OneDrive - IESEG\\Documents\\Courses\\Semester_2\\Credit_Scoring\\ind_prj\\Project\\data\n"
     ]
    }
   ],
   "source": [
    "#Set data files path\n",
    "%cd \"c:/Users/irana/OneDrive - IESEG/Documents/Courses/Semester_2/Credit_Scoring/ind_prj/Project/data\""
   ]
  },
  {
   "cell_type": "markdown",
   "metadata": {},
   "source": [
    "#### Load libraries"
   ]
  },
  {
   "cell_type": "code",
   "execution_count": 2,
   "metadata": {},
   "outputs": [],
   "source": [
    "import pandas as pd\n",
    "import numpy as np \n",
    "import matplotlib.pyplot as plt\n",
    "import plotly.graph_objects as go\n",
    "import seaborn as sns\n",
    "\n",
    "\n",
    "from collections import defaultdict\n",
    "\n",
    "import lifelines"
   ]
  },
  {
   "cell_type": "markdown",
   "metadata": {},
   "source": [
    "#### Read data"
   ]
  },
  {
   "cell_type": "code",
   "execution_count": 3,
   "metadata": {},
   "outputs": [],
   "source": [
    "credit_surv  = pd.read_csv('mortgage.csv')"
   ]
  },
  {
   "cell_type": "markdown",
   "metadata": {},
   "source": [
    "#### 2) Expore data"
   ]
  },
  {
   "cell_type": "code",
   "execution_count": 4,
   "metadata": {},
   "outputs": [
    {
     "name": "stdout",
     "output_type": "stream",
     "text": [
      "(622489, 23)\n"
     ]
    },
    {
     "data": {
      "text/html": [
       "<div>\n",
       "<style scoped>\n",
       "    .dataframe tbody tr th:only-of-type {\n",
       "        vertical-align: middle;\n",
       "    }\n",
       "\n",
       "    .dataframe tbody tr th {\n",
       "        vertical-align: top;\n",
       "    }\n",
       "\n",
       "    .dataframe thead th {\n",
       "        text-align: right;\n",
       "    }\n",
       "</style>\n",
       "<table border=\"1\" class=\"dataframe\">\n",
       "  <thead>\n",
       "    <tr style=\"text-align: right;\">\n",
       "      <th></th>\n",
       "      <th>id</th>\n",
       "      <th>time</th>\n",
       "      <th>orig_time</th>\n",
       "      <th>first_time</th>\n",
       "      <th>mat_time</th>\n",
       "      <th>balance_time</th>\n",
       "      <th>LTV_time</th>\n",
       "      <th>interest_rate_time</th>\n",
       "      <th>hpi_time</th>\n",
       "      <th>gdp_time</th>\n",
       "      <th>...</th>\n",
       "      <th>REtype_SF_orig_time</th>\n",
       "      <th>investor_orig_time</th>\n",
       "      <th>balance_orig_time</th>\n",
       "      <th>FICO_orig_time</th>\n",
       "      <th>LTV_orig_time</th>\n",
       "      <th>Interest_Rate_orig_time</th>\n",
       "      <th>hpi_orig_time</th>\n",
       "      <th>default_time</th>\n",
       "      <th>payoff_time</th>\n",
       "      <th>status_time</th>\n",
       "    </tr>\n",
       "  </thead>\n",
       "  <tbody>\n",
       "    <tr>\n",
       "      <th>239493</th>\n",
       "      <td>19311</td>\n",
       "      <td>17</td>\n",
       "      <td>13</td>\n",
       "      <td>16</td>\n",
       "      <td>133</td>\n",
       "      <td>152969.26</td>\n",
       "      <td>82.863216</td>\n",
       "      <td>7.000</td>\n",
       "      <td>179.45</td>\n",
       "      <td>4.126684</td>\n",
       "      <td>...</td>\n",
       "      <td>1</td>\n",
       "      <td>0</td>\n",
       "      <td>154000.0</td>\n",
       "      <td>648</td>\n",
       "      <td>100.0</td>\n",
       "      <td>7.000</td>\n",
       "      <td>149.70</td>\n",
       "      <td>0</td>\n",
       "      <td>0</td>\n",
       "      <td>0</td>\n",
       "    </tr>\n",
       "    <tr>\n",
       "      <th>289538</th>\n",
       "      <td>22762</td>\n",
       "      <td>24</td>\n",
       "      <td>19</td>\n",
       "      <td>21</td>\n",
       "      <td>139</td>\n",
       "      <td>298157.64</td>\n",
       "      <td>64.576294</td>\n",
       "      <td>5.913</td>\n",
       "      <td>223.75</td>\n",
       "      <td>3.121195</td>\n",
       "      <td>...</td>\n",
       "      <td>1</td>\n",
       "      <td>0</td>\n",
       "      <td>296250.0</td>\n",
       "      <td>641</td>\n",
       "      <td>75.0</td>\n",
       "      <td>1.000</td>\n",
       "      <td>191.42</td>\n",
       "      <td>0</td>\n",
       "      <td>0</td>\n",
       "      <td>0</td>\n",
       "    </tr>\n",
       "    <tr>\n",
       "      <th>463470</th>\n",
       "      <td>36877</td>\n",
       "      <td>23</td>\n",
       "      <td>12</td>\n",
       "      <td>15</td>\n",
       "      <td>73</td>\n",
       "      <td>54946.88</td>\n",
       "      <td>41.216866</td>\n",
       "      <td>5.625</td>\n",
       "      <td>221.91</td>\n",
       "      <td>2.987109</td>\n",
       "      <td>...</td>\n",
       "      <td>0</td>\n",
       "      <td>1</td>\n",
       "      <td>64650.0</td>\n",
       "      <td>724</td>\n",
       "      <td>74.3</td>\n",
       "      <td>5.625</td>\n",
       "      <td>144.84</td>\n",
       "      <td>0</td>\n",
       "      <td>0</td>\n",
       "      <td>0</td>\n",
       "    </tr>\n",
       "    <tr>\n",
       "      <th>555872</th>\n",
       "      <td>43863</td>\n",
       "      <td>21</td>\n",
       "      <td>19</td>\n",
       "      <td>21</td>\n",
       "      <td>140</td>\n",
       "      <td>220000.00</td>\n",
       "      <td>69.012382</td>\n",
       "      <td>5.000</td>\n",
       "      <td>208.86</td>\n",
       "      <td>3.346929</td>\n",
       "      <td>...</td>\n",
       "      <td>0</td>\n",
       "      <td>0</td>\n",
       "      <td>220000.0</td>\n",
       "      <td>695</td>\n",
       "      <td>75.3</td>\n",
       "      <td>5.000</td>\n",
       "      <td>191.42</td>\n",
       "      <td>0</td>\n",
       "      <td>0</td>\n",
       "      <td>0</td>\n",
       "    </tr>\n",
       "    <tr>\n",
       "      <th>487261</th>\n",
       "      <td>38187</td>\n",
       "      <td>36</td>\n",
       "      <td>24</td>\n",
       "      <td>26</td>\n",
       "      <td>184</td>\n",
       "      <td>285930.36</td>\n",
       "      <td>109.644242</td>\n",
       "      <td>5.779</td>\n",
       "      <td>151.48</td>\n",
       "      <td>-3.516568</td>\n",
       "      <td>...</td>\n",
       "      <td>0</td>\n",
       "      <td>1</td>\n",
       "      <td>255000.0</td>\n",
       "      <td>722</td>\n",
       "      <td>66.2</td>\n",
       "      <td>1.400</td>\n",
       "      <td>223.75</td>\n",
       "      <td>0</td>\n",
       "      <td>0</td>\n",
       "      <td>0</td>\n",
       "    </tr>\n",
       "  </tbody>\n",
       "</table>\n",
       "<p>5 rows × 23 columns</p>\n",
       "</div>"
      ],
      "text/plain": [
       "           id  time  orig_time  first_time  mat_time  balance_time  \\\n",
       "239493  19311    17         13          16       133     152969.26   \n",
       "289538  22762    24         19          21       139     298157.64   \n",
       "463470  36877    23         12          15        73      54946.88   \n",
       "555872  43863    21         19          21       140     220000.00   \n",
       "487261  38187    36         24          26       184     285930.36   \n",
       "\n",
       "          LTV_time  interest_rate_time  hpi_time  gdp_time  ...  \\\n",
       "239493   82.863216               7.000    179.45  4.126684  ...   \n",
       "289538   64.576294               5.913    223.75  3.121195  ...   \n",
       "463470   41.216866               5.625    221.91  2.987109  ...   \n",
       "555872   69.012382               5.000    208.86  3.346929  ...   \n",
       "487261  109.644242               5.779    151.48 -3.516568  ...   \n",
       "\n",
       "        REtype_SF_orig_time  investor_orig_time  balance_orig_time  \\\n",
       "239493                    1                   0           154000.0   \n",
       "289538                    1                   0           296250.0   \n",
       "463470                    0                   1            64650.0   \n",
       "555872                    0                   0           220000.0   \n",
       "487261                    0                   1           255000.0   \n",
       "\n",
       "        FICO_orig_time  LTV_orig_time  Interest_Rate_orig_time  hpi_orig_time  \\\n",
       "239493             648          100.0                    7.000         149.70   \n",
       "289538             641           75.0                    1.000         191.42   \n",
       "463470             724           74.3                    5.625         144.84   \n",
       "555872             695           75.3                    5.000         191.42   \n",
       "487261             722           66.2                    1.400         223.75   \n",
       "\n",
       "        default_time  payoff_time  status_time  \n",
       "239493             0            0            0  \n",
       "289538             0            0            0  \n",
       "463470             0            0            0  \n",
       "555872             0            0            0  \n",
       "487261             0            0            0  \n",
       "\n",
       "[5 rows x 23 columns]"
      ]
     },
     "execution_count": 4,
     "metadata": {},
     "output_type": "execute_result"
    }
   ],
   "source": [
    "#Check the sample data and data dimentions\n",
    "print(credit_surv.shape)\n",
    "\n",
    "credit_surv.sample(5)"
   ]
  },
  {
   "cell_type": "code",
   "execution_count": 5,
   "metadata": {},
   "outputs": [
    {
     "data": {
      "text/plain": [
       "id                           0\n",
       "time                         0\n",
       "orig_time                    0\n",
       "first_time                   0\n",
       "mat_time                     0\n",
       "balance_time                 0\n",
       "LTV_time                   270\n",
       "interest_rate_time           0\n",
       "hpi_time                     0\n",
       "gdp_time                     0\n",
       "uer_time                     0\n",
       "REtype_CO_orig_time          0\n",
       "REtype_PU_orig_time          0\n",
       "REtype_SF_orig_time          0\n",
       "investor_orig_time           0\n",
       "balance_orig_time            0\n",
       "FICO_orig_time               0\n",
       "LTV_orig_time                0\n",
       "Interest_Rate_orig_time      0\n",
       "hpi_orig_time                0\n",
       "default_time                 0\n",
       "payoff_time                  0\n",
       "status_time                  0\n",
       "dtype: int64"
      ]
     },
     "execution_count": 5,
     "metadata": {},
     "output_type": "execute_result"
    }
   ],
   "source": [
    "#Check for nulls\n",
    "credit_surv.isna().sum()"
   ]
  },
  {
   "cell_type": "code",
   "execution_count": 6,
   "metadata": {},
   "outputs": [],
   "source": [
    "#treat the null values by filling them with average\n",
    "credit_surv = credit_surv.fillna(credit_surv.LTV_time.mean())"
   ]
  },
  {
   "cell_type": "code",
   "execution_count": 7,
   "metadata": {},
   "outputs": [],
   "source": [
    "# convert episodic data to static\n",
    "credit_static = credit_surv.groupby(\"id\").agg(np.max).reset_index()"
   ]
  },
  {
   "cell_type": "code",
   "execution_count": 8,
   "metadata": {},
   "outputs": [
    {
     "data": {
      "image/png": "[encoded data removed]",
      "text/plain": [
       "<Figure size 432x288 with 1 Axes>"
      ]
     },
     "metadata": {
      "needs_background": "light"
     },
     "output_type": "display_data"
    }
   ],
   "source": [
    "#Plot the sample default time\n",
    "from lifelines.plotting import plot_lifetimes\n",
    "\n",
    "df_samp = credit_static.sample(20)\n",
    "ax = plot_lifetimes(df_samp[\"time\"], event_observed=df_samp[\"default_time\"])\n",
    "ax.set_xlabel(\"Time\")\n",
    "ax.set_title(\"Time to default\")\n",
    "plt.show()"
   ]
  },
  {
   "cell_type": "markdown",
   "metadata": {},
   "source": [
    "##### From the plot above, it seems like the default time may lies between 30 - 50 time period, but this is just a pre-liminary analysis on a sample data, lets look at the analysis in detail in the next steps"
   ]
  },
  {
   "cell_type": "markdown",
   "metadata": {},
   "source": [
    "---------------------"
   ]
  },
  {
   "cell_type": "markdown",
   "metadata": {},
   "source": [
    "#### 3) Kaplan-Meier Method\n",
    "- Evaluate whether the time to default for borrowers with low outstanding balance at origination time (30% quantile) significantly differs from borrowers with Average/High outstanding balance at origination time.\n",
    "- Display and compare the probability of survival after 25 and 50 months for the two groups"
   ]
  },
  {
   "cell_type": "markdown",
   "metadata": {},
   "source": [
    "## The Kaplan-Meier\n",
    "##### The Kaplan-Meier estimator (also known as the product-limit estimator, you will see why later on) is a non-parametric technique of estimating and plotting the survival probability as a function of time. It is often the first step in carrying out the survival analysis, as it is the simplest approach and requires the least assumptions. To carry out the analysis using the Kaplan-Meier approach, we assume the following:\n",
    "\n",
    "##### The event of interest is unambiguous and happens at a clearly specified time.\n",
    "- The survival probability of all observations is the same, it does not matter exactly when they have entered the study.\n",
    "- Censored observations have the same survival prospects as observations that continue to be followed.\n",
    "\n",
    "##### In real-life cases, we never know the true survival function. That is why with the Kaplan-Meier estimator, we approximate the true survival function from the collected data. The estimator is defined as the fraction of observations who survived for a certain amount of time under the same circumstances and is given by the following formula:\n",
    "\n",
    "![](https://miro.medium.com/max/433/1*TyTu1to3tNRpRbOadQ6O-g.png)\n",
    "\n",
    "where:\n",
    "- t_i is a time when at least one event happened,\n",
    "- d_i is the number of events that happened at time t_i,\n",
    "- n_i represents the number of individuals known to have survived up to time t_i (they have not yet had the death event or have been censored). Or to put it differently, the number of observations at risk at time t_i."
   ]
  },
  {
   "cell_type": "markdown",
   "metadata": {},
   "source": [
    "-------------"
   ]
  },
  {
   "cell_type": "code",
   "execution_count": 9,
   "metadata": {},
   "outputs": [
    {
     "data": {
      "image/png": "[encoded data removed]",
      "text/plain": [
       "<Figure size 576x360 with 2 Axes>"
      ]
     },
     "metadata": {
      "needs_background": "light"
     },
     "output_type": "display_data"
    }
   ],
   "source": [
    "from lifelines import KaplanMeierFitter\n",
    "\n",
    "kmf = KaplanMeierFitter()\n",
    "# fit on static data: TIME indicates the last observed timestep, TARGET indicates whether the customer defaulted\n",
    "kmf.fit(credit_static['time'], credit_static['default_time'], label='Kaplan Meier Estimator')\n",
    "\n",
    "# plot survival function\n",
    "ax = kmf.plot_survival_function(at_risk_counts=True,figsize=(8,5))\n",
    "ax.set_ylabel('Probability of non-default')\n",
    "plt.show()"
   ]
  },
  {
   "cell_type": "markdown",
   "metadata": {},
   "source": [
    "#### The survival function gives us a nice sigmoid shape curve, so the commulitive probability seems to be normally distributed.\n",
    "#### It may also be important to notice that the probability of default decreases with time. (Probability of default is inversly propotional to time left in loan)"
   ]
  },
  {
   "cell_type": "code",
   "execution_count": 10,
   "metadata": {},
   "outputs": [
    {
     "name": "stdout",
     "output_type": "stream",
     "text": [
      "35.0\n"
     ]
    },
    {
     "name": "stderr",
     "output_type": "stream",
     "text": [
      "C:\\Users\\irana\\AppData\\Local\\Temp\\ipykernel_20468\\2095583429.py:8: UserWarning: color is redundantly defined by the 'color' keyword argument and the fmt string \"k-\" (-> color='k'). The keyword argument will take precedence.\n",
      "  plt.plot([median_default, median_default], [0,1], 'k-', c=\"red\")\n"
     ]
    },
    {
     "data": {
      "image/png": "[encoded data removed]",
      "text/plain": [
       "<Figure size 576x360 with 2 Axes>"
      ]
     },
     "metadata": {
      "needs_background": "light"
     },
     "output_type": "display_data"
    }
   ],
   "source": [
    "# Look at the Median default_time.\n",
    "median_default = credit_static.query(\"default_time==1\")[\"time\"].median()\n",
    "print(median_default)\n",
    "\n",
    "# add to plot\n",
    "ax = kmf.plot_survival_function(at_risk_counts=True,figsize=(8,5))\n",
    "ax.set_ylabel('Probability of non-default')\n",
    "plt.plot([median_default, median_default], [0,1], 'k-', c=\"red\")\n",
    "plt.show()"
   ]
  },
  {
   "cell_type": "code",
   "execution_count": 11,
   "metadata": {},
   "outputs": [
    {
     "data": {
      "text/html": [
       "<div>\n",
       "<style scoped>\n",
       "    .dataframe tbody tr th:only-of-type {\n",
       "        vertical-align: middle;\n",
       "    }\n",
       "\n",
       "    .dataframe tbody tr th {\n",
       "        vertical-align: top;\n",
       "    }\n",
       "\n",
       "    .dataframe thead th {\n",
       "        text-align: right;\n",
       "    }\n",
       "</style>\n",
       "<table border=\"1\" class=\"dataframe\">\n",
       "  <thead>\n",
       "    <tr style=\"text-align: right;\">\n",
       "      <th></th>\n",
       "      <th>removed</th>\n",
       "      <th>observed</th>\n",
       "      <th>censored</th>\n",
       "      <th>entrance</th>\n",
       "      <th>at_risk</th>\n",
       "    </tr>\n",
       "    <tr>\n",
       "      <th>event_at</th>\n",
       "      <th></th>\n",
       "      <th></th>\n",
       "      <th></th>\n",
       "      <th></th>\n",
       "      <th></th>\n",
       "    </tr>\n",
       "  </thead>\n",
       "  <tbody>\n",
       "    <tr>\n",
       "      <th>0.0</th>\n",
       "      <td>0</td>\n",
       "      <td>0</td>\n",
       "      <td>0</td>\n",
       "      <td>50000</td>\n",
       "      <td>50000</td>\n",
       "    </tr>\n",
       "    <tr>\n",
       "      <th>1.0</th>\n",
       "      <td>22</td>\n",
       "      <td>3</td>\n",
       "      <td>19</td>\n",
       "      <td>0</td>\n",
       "      <td>50000</td>\n",
       "    </tr>\n",
       "    <tr>\n",
       "      <th>2.0</th>\n",
       "      <td>37</td>\n",
       "      <td>5</td>\n",
       "      <td>32</td>\n",
       "      <td>0</td>\n",
       "      <td>49978</td>\n",
       "    </tr>\n",
       "  </tbody>\n",
       "</table>\n",
       "</div>"
      ],
      "text/plain": [
       "          removed  observed  censored  entrance  at_risk\n",
       "event_at                                                \n",
       "0.0             0         0         0     50000    50000\n",
       "1.0            22         3        19         0    50000\n",
       "2.0            37         5        32         0    49978"
      ]
     },
     "execution_count": 11,
     "metadata": {},
     "output_type": "execute_result"
    }
   ],
   "source": [
    "#look at the sample event data\n",
    "kmf.event_table.head(3)"
   ]
  },
  {
   "cell_type": "code",
   "execution_count": 12,
   "metadata": {},
   "outputs": [
    {
     "data": {
      "text/plain": [
       "<AxesSubplot:xlabel='timeline'>"
      ]
     },
     "execution_count": 12,
     "metadata": {},
     "output_type": "execute_result"
    },
    {
     "data": {
      "image/png": "[encoded data removed]",
      "text/plain": [
       "<Figure size 432x288 with 1 Axes>"
      ]
     },
     "metadata": {
      "needs_background": "light"
     },
     "output_type": "display_data"
    }
   ],
   "source": [
    "# plot cumulative hazard function\n",
    "kmf.plot_cumulative_density()"
   ]
  },
  {
   "cell_type": "markdown",
   "metadata": {},
   "source": [
    "#### 4) Probability of default with low/average-high balance"
   ]
  },
  {
   "cell_type": "markdown",
   "metadata": {},
   "source": [
    "#### Predicting probability of default with for the borrowers with low outstanding balance"
   ]
  },
  {
   "cell_type": "code",
   "execution_count": 13,
   "metadata": {},
   "outputs": [
    {
     "data": {
      "text/plain": [
       "0.5426757581616439"
      ]
     },
     "execution_count": 13,
     "metadata": {},
     "output_type": "execute_result"
    }
   ],
   "source": [
    "# \"predict\" probability to default at time 60\n",
    "# 1 - probability of non-default at time 60\n",
    "1 - kmf.predict(60)"
   ]
  },
  {
   "cell_type": "code",
   "execution_count": 14,
   "metadata": {},
   "outputs": [],
   "source": [
    "# Checking the 30th Quantile of Balance at Origin Time\n",
    "\n",
    "credit_static['balance_orig_time'].quantile(0.3)\n",
    "credit_static['low_balance'] = 1\n",
    "credit_static.loc[(credit_static['balance_orig_time'] > credit_static['balance_orig_time'].quantile(0.3)),'low_balance'] = 0"
   ]
  },
  {
   "cell_type": "code",
   "execution_count": 15,
   "metadata": {},
   "outputs": [
    {
     "data": {
      "text/plain": [
       "<AxesSubplot:ylabel='low_balance'>"
      ]
     },
     "execution_count": 15,
     "metadata": {},
     "output_type": "execute_result"
    },
    {
     "data": {
      "image/png": "[encoded data removed]",
      "text/plain": [
       "<Figure size 360x576 with 1 Axes>"
      ]
     },
     "metadata": {},
     "output_type": "display_data"
    }
   ],
   "source": [
    "# display pie chart for low balance vs hig hbalance\n",
    "credit_static[\"low_balance\"].value_counts().plot.pie(autopct='%.4f%%', figsize=(5,8))"
   ]
  },
  {
   "cell_type": "code",
   "execution_count": 16,
   "metadata": {},
   "outputs": [
    {
     "data": {
      "image/png": "[encoded data removed]",
      "text/plain": [
       "<Figure size 504x432 with 2 Axes>"
      ]
     },
     "metadata": {
      "needs_background": "light"
     },
     "output_type": "display_data"
    }
   ],
   "source": [
    "# Compare two groups\n",
    "\n",
    "kmf1 = KaplanMeierFitter()\n",
    "kmf2 = KaplanMeierFitter()\n",
    "\n",
    "fig, ax = plt.subplots(1,1 , figsize=(7,6))\n",
    "\n",
    "# subset data\n",
    "df1 = credit_static.loc[credit_static[\"low_balance\"] == 1,:]\n",
    "df2 = credit_static.loc[credit_static[\"low_balance\"] == 0,:]\n",
    "\n",
    "# fit subset low balance\n",
    "ax = kmf1.fit(df1['time'], df1['default_time'], label='low_balance').plot_survival_function(ax=ax)\n",
    "\n",
    "# fit subset high/normal balance\n",
    "ax = kmf2.fit(df2['time'], df2['default_time'], label='high_balance').plot_survival_function(ax=ax)\n",
    "\n",
    "from lifelines.plotting import add_at_risk_counts\n",
    "add_at_risk_counts(kmf1, kmf2, ax=ax)\n",
    "plt.tight_layout()"
   ]
  },
  {
   "cell_type": "markdown",
   "metadata": {},
   "source": [
    "### Logrank test : The logrank test, or log-rank test, is a hypothesis test to compare the survival distributions of two samples. It is a nonparametric test and appropriate to use when the data are right skewed and censored (technically, the censoring must be non-informative)"
   ]
  },
  {
   "cell_type": "code",
   "execution_count": 17,
   "metadata": {},
   "outputs": [
    {
     "data": {
      "text/html": [
       "<div>\n",
       "<style scoped>\n",
       "    .dataframe tbody tr th:only-of-type {\n",
       "        vertical-align: middle;\n",
       "    }\n",
       "\n",
       "    .dataframe tbody tr th {\n",
       "        vertical-align: top;\n",
       "    }\n",
       "\n",
       "    .dataframe thead th {\n",
       "        text-align: right;\n",
       "    }\n",
       "</style>\n",
       "<table border=\"1\" class=\"dataframe\">\n",
       "  <thead>\n",
       "    <tr style=\"text-align: right;\">\n",
       "      <th></th>\n",
       "      <th>test_statistic</th>\n",
       "      <th>p</th>\n",
       "      <th>-log2(p)</th>\n",
       "    </tr>\n",
       "  </thead>\n",
       "  <tbody>\n",
       "    <tr>\n",
       "      <th>0</th>\n",
       "      <td>37151.577469</td>\n",
       "      <td>0.0</td>\n",
       "      <td>inf</td>\n",
       "    </tr>\n",
       "  </tbody>\n",
       "</table>\n",
       "</div>"
      ],
      "text/plain": [
       "   test_statistic    p  -log2(p)\n",
       "0    37151.577469  0.0       inf"
      ]
     },
     "execution_count": 17,
     "metadata": {},
     "output_type": "execute_result"
    }
   ],
   "source": [
    "# Perform logrank test to assess whether there is a difference between low balance and high balance in time to default\n",
    "\n",
    "from lifelines.statistics import logrank_test\n",
    "\n",
    "# Null-Hypothesis: No difference between the two groups\n",
    "res = logrank_test(df1['time'], df2['time'], event_observed_A=df1['low_balance'],event_observed_B=df2['low_balance'])\n",
    "\n",
    "#Look at the summary/p-value\n",
    "res.summary "
   ]
  },
  {
   "cell_type": "markdown",
   "metadata": {},
   "source": [
    "### From above since p < 0.05, We can reject the Null-Hypothesis and accept the alternate hypothesis that there is a difference in time to default between people with low and high balance"
   ]
  },
  {
   "cell_type": "markdown",
   "metadata": {},
   "source": [
    "------------"
   ]
  },
  {
   "cell_type": "code",
   "execution_count": 18,
   "metadata": {},
   "outputs": [
    {
     "data": {
      "text/html": [
       "<div>\n",
       "<style scoped>\n",
       "    .dataframe tbody tr th:only-of-type {\n",
       "        vertical-align: middle;\n",
       "    }\n",
       "\n",
       "    .dataframe tbody tr th {\n",
       "        vertical-align: top;\n",
       "    }\n",
       "\n",
       "    .dataframe thead th {\n",
       "        text-align: right;\n",
       "    }\n",
       "</style>\n",
       "<table border=\"1\" class=\"dataframe\">\n",
       "  <thead>\n",
       "    <tr style=\"text-align: right;\">\n",
       "      <th></th>\n",
       "      <th>id</th>\n",
       "      <th>time</th>\n",
       "      <th>orig_time</th>\n",
       "      <th>first_time</th>\n",
       "      <th>mat_time</th>\n",
       "      <th>balance_time</th>\n",
       "      <th>LTV_time</th>\n",
       "      <th>interest_rate_time</th>\n",
       "      <th>hpi_time</th>\n",
       "      <th>gdp_time</th>\n",
       "      <th>...</th>\n",
       "      <th>investor_orig_time</th>\n",
       "      <th>balance_orig_time</th>\n",
       "      <th>FICO_orig_time</th>\n",
       "      <th>LTV_orig_time</th>\n",
       "      <th>Interest_Rate_orig_time</th>\n",
       "      <th>hpi_orig_time</th>\n",
       "      <th>default_time</th>\n",
       "      <th>payoff_time</th>\n",
       "      <th>status_time</th>\n",
       "      <th>low_balance</th>\n",
       "    </tr>\n",
       "  </thead>\n",
       "  <tbody>\n",
       "    <tr>\n",
       "      <th>0</th>\n",
       "      <td>1</td>\n",
       "      <td>48</td>\n",
       "      <td>-7</td>\n",
       "      <td>25</td>\n",
       "      <td>113</td>\n",
       "      <td>41303.42</td>\n",
       "      <td>28.963629</td>\n",
       "      <td>9.20</td>\n",
       "      <td>226.29</td>\n",
       "      <td>3.029499</td>\n",
       "      <td>...</td>\n",
       "      <td>0</td>\n",
       "      <td>45000.0</td>\n",
       "      <td>715</td>\n",
       "      <td>69.4</td>\n",
       "      <td>9.20</td>\n",
       "      <td>87.03</td>\n",
       "      <td>1</td>\n",
       "      <td>0</td>\n",
       "      <td>1</td>\n",
       "      <td>1</td>\n",
       "    </tr>\n",
       "    <tr>\n",
       "      <th>1</th>\n",
       "      <td>2</td>\n",
       "      <td>26</td>\n",
       "      <td>18</td>\n",
       "      <td>25</td>\n",
       "      <td>138</td>\n",
       "      <td>105826.38</td>\n",
       "      <td>65.469851</td>\n",
       "      <td>7.68</td>\n",
       "      <td>226.29</td>\n",
       "      <td>2.899137</td>\n",
       "      <td>...</td>\n",
       "      <td>0</td>\n",
       "      <td>107200.0</td>\n",
       "      <td>558</td>\n",
       "      <td>80.0</td>\n",
       "      <td>7.68</td>\n",
       "      <td>186.91</td>\n",
       "      <td>0</td>\n",
       "      <td>1</td>\n",
       "      <td>2</td>\n",
       "      <td>1</td>\n",
       "    </tr>\n",
       "  </tbody>\n",
       "</table>\n",
       "<p>2 rows × 24 columns</p>\n",
       "</div>"
      ],
      "text/plain": [
       "   id  time  orig_time  first_time  mat_time  balance_time   LTV_time  \\\n",
       "0   1    48         -7          25       113      41303.42  28.963629   \n",
       "1   2    26         18          25       138     105826.38  65.469851   \n",
       "\n",
       "   interest_rate_time  hpi_time  gdp_time  ...  investor_orig_time  \\\n",
       "0                9.20    226.29  3.029499  ...                   0   \n",
       "1                7.68    226.29  2.899137  ...                   0   \n",
       "\n",
       "   balance_orig_time  FICO_orig_time  LTV_orig_time  Interest_Rate_orig_time  \\\n",
       "0            45000.0             715           69.4                     9.20   \n",
       "1           107200.0             558           80.0                     7.68   \n",
       "\n",
       "   hpi_orig_time  default_time  payoff_time  status_time  low_balance  \n",
       "0          87.03             1            0            1            1  \n",
       "1         186.91             0            1            2            1  \n",
       "\n",
       "[2 rows x 24 columns]"
      ]
     },
     "execution_count": 18,
     "metadata": {},
     "output_type": "execute_result"
    }
   ],
   "source": [
    "credit_static.head(2)"
   ]
  },
  {
   "cell_type": "markdown",
   "metadata": {},
   "source": [
    "### 5) Cox Proportional Hazard model"
   ]
  },
  {
   "cell_type": "markdown",
   "metadata": {},
   "source": [
    "#### Fit a Cox Proportional Hazard model (time varying) using the variables:\n",
    "- [\"default_time\", \"hpi_time\", \"gdp_time\", \"uer_time\", \"balance_time\",\"interest_rate_time\", \"FICO_orig_time\", \"LTV_time\"]\n",
    "- Interpret the results by specifically explaining the impact of variables regarding the general economy on the probability of default\n",
    "\n",
    "\n",
    "#### Proportional hazards model: The proportional hazards condition states that covariates are multiplicatively related to the hazard. In the simplest case of stationary coefficients, for example, a treatment with a drug may, say, halve a subject's hazard at any given time , while the baseline hazard may vary."
   ]
  },
  {
   "cell_type": "code",
   "execution_count": 19,
   "metadata": {},
   "outputs": [],
   "source": [
    "# select time varying variables\n",
    "\n",
    "credit_tv = pd.merge(credit_surv[[\"id\", \"default_time\", \"hpi_time\", \"gdp_time\", \"uer_time\", \"balance_time\",\"interest_rate_time\", \"FICO_orig_time\", \"LTV_time\"]], credit_static[[\"id\", \"time\"]]/\n",
    ".rename(columns={\"time\":\"time_end\"}), on=\"id\", how=\"inner\")\n",
    "\n",
    "# Assumption: time always starts at 0 (no interval censored data)\n",
    "credit_tv[\"first_time\"] = 0"
   ]
  },
  {
   "cell_type": "code",
   "execution_count": 20,
   "metadata": {},
   "outputs": [
    {
     "name": "stdout",
     "output_type": "stream",
     "text": [
      "Iteration 9: norm_delta = 0.00000, step_size = 1.00000, ll = -193534.92545, newton_decrement = 0.00000, seconds_since_start = 75.1Convergence completed after 9 iterations.\n"
     ]
    },
    {
     "data": {
      "text/html": [
       "<div>\n",
       "<style scoped>\n",
       "    .dataframe tbody tr th:only-of-type {\n",
       "        vertical-align: middle;\n",
       "    }\n",
       "\n",
       "    .dataframe tbody tr th {\n",
       "        vertical-align: top;\n",
       "    }\n",
       "\n",
       "    .dataframe thead th {\n",
       "        text-align: right;\n",
       "    }\n",
       "</style>\n",
       "<table border=\"1\" class=\"dataframe\">\n",
       "  <thead>\n",
       "    <tr style=\"text-align: right;\">\n",
       "      <th></th>\n",
       "      <th>coef</th>\n",
       "      <th>exp(coef)</th>\n",
       "      <th>se(coef)</th>\n",
       "      <th>coef lower 95%</th>\n",
       "      <th>coef upper 95%</th>\n",
       "      <th>exp(coef) lower 95%</th>\n",
       "      <th>exp(coef) upper 95%</th>\n",
       "      <th>cmp to</th>\n",
       "      <th>z</th>\n",
       "      <th>p</th>\n",
       "      <th>-log2(p)</th>\n",
       "    </tr>\n",
       "    <tr>\n",
       "      <th>covariate</th>\n",
       "      <th></th>\n",
       "      <th></th>\n",
       "      <th></th>\n",
       "      <th></th>\n",
       "      <th></th>\n",
       "      <th></th>\n",
       "      <th></th>\n",
       "      <th></th>\n",
       "      <th></th>\n",
       "      <th></th>\n",
       "      <th></th>\n",
       "    </tr>\n",
       "  </thead>\n",
       "  <tbody>\n",
       "    <tr>\n",
       "      <th>hpi_time</th>\n",
       "      <td>-7.725162e-03</td>\n",
       "      <td>0.992305</td>\n",
       "      <td>6.879571e-04</td>\n",
       "      <td>-9.073533e-03</td>\n",
       "      <td>-6.376790e-03</td>\n",
       "      <td>0.990968</td>\n",
       "      <td>0.993643</td>\n",
       "      <td>0.0</td>\n",
       "      <td>-11.229132</td>\n",
       "      <td>2.933454e-29</td>\n",
       "      <td>94.783315</td>\n",
       "    </tr>\n",
       "    <tr>\n",
       "      <th>gdp_time</th>\n",
       "      <td>-7.856911e-02</td>\n",
       "      <td>0.924438</td>\n",
       "      <td>4.221101e-03</td>\n",
       "      <td>-8.684232e-02</td>\n",
       "      <td>-7.029591e-02</td>\n",
       "      <td>0.916822</td>\n",
       "      <td>0.932118</td>\n",
       "      <td>0.0</td>\n",
       "      <td>-18.613415</td>\n",
       "      <td>2.501528e-77</td>\n",
       "      <td>254.465654</td>\n",
       "    </tr>\n",
       "    <tr>\n",
       "      <th>uer_time</th>\n",
       "      <td>-1.620742e-01</td>\n",
       "      <td>0.850378</td>\n",
       "      <td>8.073371e-03</td>\n",
       "      <td>-1.778977e-01</td>\n",
       "      <td>-1.462507e-01</td>\n",
       "      <td>0.837028</td>\n",
       "      <td>0.863941</td>\n",
       "      <td>0.0</td>\n",
       "      <td>-20.075157</td>\n",
       "      <td>1.216970e-89</td>\n",
       "      <td>295.368307</td>\n",
       "    </tr>\n",
       "    <tr>\n",
       "      <th>balance_time</th>\n",
       "      <td>5.797382e-07</td>\n",
       "      <td>1.000001</td>\n",
       "      <td>2.128008e-08</td>\n",
       "      <td>5.380300e-07</td>\n",
       "      <td>6.214464e-07</td>\n",
       "      <td>1.000001</td>\n",
       "      <td>1.000001</td>\n",
       "      <td>0.0</td>\n",
       "      <td>27.243240</td>\n",
       "      <td>1.998460e-163</td>\n",
       "      <td>540.475391</td>\n",
       "    </tr>\n",
       "    <tr>\n",
       "      <th>interest_rate_time</th>\n",
       "      <td>1.713197e-01</td>\n",
       "      <td>1.186870</td>\n",
       "      <td>3.451141e-03</td>\n",
       "      <td>1.645556e-01</td>\n",
       "      <td>1.780838e-01</td>\n",
       "      <td>1.178869</td>\n",
       "      <td>1.194925</td>\n",
       "      <td>0.0</td>\n",
       "      <td>49.641471</td>\n",
       "      <td>0.000000e+00</td>\n",
       "      <td>inf</td>\n",
       "    </tr>\n",
       "    <tr>\n",
       "      <th>FICO_orig_time</th>\n",
       "      <td>-4.456852e-03</td>\n",
       "      <td>0.995553</td>\n",
       "      <td>1.211527e-04</td>\n",
       "      <td>-4.694307e-03</td>\n",
       "      <td>-4.219397e-03</td>\n",
       "      <td>0.995317</td>\n",
       "      <td>0.995789</td>\n",
       "      <td>0.0</td>\n",
       "      <td>-36.787051</td>\n",
       "      <td>2.974133e-296</td>\n",
       "      <td>981.718247</td>\n",
       "    </tr>\n",
       "    <tr>\n",
       "      <th>LTV_time</th>\n",
       "      <td>8.251092e-03</td>\n",
       "      <td>1.008285</td>\n",
       "      <td>1.350111e-04</td>\n",
       "      <td>7.986475e-03</td>\n",
       "      <td>8.515709e-03</td>\n",
       "      <td>1.008018</td>\n",
       "      <td>1.008552</td>\n",
       "      <td>0.0</td>\n",
       "      <td>61.114162</td>\n",
       "      <td>0.000000e+00</td>\n",
       "      <td>inf</td>\n",
       "    </tr>\n",
       "  </tbody>\n",
       "</table>\n",
       "</div>"
      ],
      "text/plain": [
       "                            coef  exp(coef)      se(coef)  coef lower 95%  \\\n",
       "covariate                                                                   \n",
       "hpi_time           -7.725162e-03   0.992305  6.879571e-04   -9.073533e-03   \n",
       "gdp_time           -7.856911e-02   0.924438  4.221101e-03   -8.684232e-02   \n",
       "uer_time           -1.620742e-01   0.850378  8.073371e-03   -1.778977e-01   \n",
       "balance_time        5.797382e-07   1.000001  2.128008e-08    5.380300e-07   \n",
       "interest_rate_time  1.713197e-01   1.186870  3.451141e-03    1.645556e-01   \n",
       "FICO_orig_time     -4.456852e-03   0.995553  1.211527e-04   -4.694307e-03   \n",
       "LTV_time            8.251092e-03   1.008285  1.350111e-04    7.986475e-03   \n",
       "\n",
       "                    coef upper 95%  exp(coef) lower 95%  exp(coef) upper 95%  \\\n",
       "covariate                                                                      \n",
       "hpi_time             -6.376790e-03             0.990968             0.993643   \n",
       "gdp_time             -7.029591e-02             0.916822             0.932118   \n",
       "uer_time             -1.462507e-01             0.837028             0.863941   \n",
       "balance_time          6.214464e-07             1.000001             1.000001   \n",
       "interest_rate_time    1.780838e-01             1.178869             1.194925   \n",
       "FICO_orig_time       -4.219397e-03             0.995317             0.995789   \n",
       "LTV_time              8.515709e-03             1.008018             1.008552   \n",
       "\n",
       "                    cmp to          z              p    -log2(p)  \n",
       "covariate                                                         \n",
       "hpi_time               0.0 -11.229132   2.933454e-29   94.783315  \n",
       "gdp_time               0.0 -18.613415   2.501528e-77  254.465654  \n",
       "uer_time               0.0 -20.075157   1.216970e-89  295.368307  \n",
       "balance_time           0.0  27.243240  1.998460e-163  540.475391  \n",
       "interest_rate_time     0.0  49.641471   0.000000e+00         inf  \n",
       "FICO_orig_time         0.0 -36.787051  2.974133e-296  981.718247  \n",
       "LTV_time               0.0  61.114162   0.000000e+00         inf  "
      ]
     },
     "execution_count": 20,
     "metadata": {},
     "output_type": "execute_result"
    }
   ],
   "source": [
    "from lifelines import CoxTimeVaryingFitter\n",
    "\n",
    "# Note: credit_tv contains both time varying and static variables \n",
    "ctv = CoxTimeVaryingFitter()\n",
    "ctv.fit(credit_tv, id_col=\"id\", event_col=\"default_time\", start_col=\"first_time\", stop_col=\"time_end\", show_progress=True)\n",
    "ctv.summary"
   ]
  },
  {
   "cell_type": "code",
   "execution_count": 21,
   "metadata": {},
   "outputs": [
    {
     "data": {
      "text/plain": [
       "covariate\n",
       "hpi_time              0.0\n",
       "gdp_time              0.0\n",
       "uer_time              0.0\n",
       "balance_time          0.0\n",
       "interest_rate_time    0.0\n",
       "FICO_orig_time        0.0\n",
       "LTV_time              0.0\n",
       "Name: p, dtype: float64"
      ]
     },
     "execution_count": 21,
     "metadata": {},
     "output_type": "execute_result"
    }
   ],
   "source": [
    "# inspect p-values\n",
    "round(ctv.summary['p'], 4)"
   ]
  },
  {
   "cell_type": "code",
   "execution_count": 22,
   "metadata": {},
   "outputs": [
    {
     "data": {
      "text/plain": [
       "<AxesSubplot:xlabel='log(HR) (95% CI)'>"
      ]
     },
     "execution_count": 22,
     "metadata": {},
     "output_type": "execute_result"
    },
    {
     "data": {
      "image/png": "[encoded data removed]",
      "text/plain": [
       "<Figure size 432x288 with 1 Axes>"
      ]
     },
     "metadata": {
      "needs_background": "light"
     },
     "output_type": "display_data"
    }
   ],
   "source": [
    "ctv.plot()"
   ]
  },
  {
   "cell_type": "markdown",
   "metadata": {},
   "source": [
    "#### From the plot above, we notice that unemployment , gdp and intrest rate are the main factors which can have an impact on the probability of default.\n",
    "#### On ther other hand, balance at time has almost 0 impact, LTV has a slightly +ve impact and FICO score and house price index have slightlt -ve impact on the probability of default"
   ]
  },
  {
   "cell_type": "code",
   "execution_count": 23,
   "metadata": {},
   "outputs": [
    {
     "name": "stdout",
     "output_type": "stream",
     "text": [
      "covariate\n",
      "hpi_time             -0.007725\n",
      "gdp_time             -0.078569\n",
      "uer_time             -0.162074\n",
      "balance_time          0.000001\n",
      "interest_rate_time    0.171320\n",
      "FICO_orig_time       -0.004457\n",
      "LTV_time              0.008251\n",
      "dtype: float64\n",
      "\n",
      " The increase in intrest rates increases the probability of default by  18.687%\n",
      "\n",
      " The decrease nunemployment rate decreased the probability of default by  -14.962%\n",
      "\n",
      " The decrease in GDP rate increases the probability of default by a factor of -7.556%\n"
     ]
    }
   ],
   "source": [
    "# print parameter values\n",
    "print(round(ctv.params_, 6))\n",
    "\n",
    "# Interpretation (under ceteris paribus assumption): \n",
    "print('/n The increase in intrest rates increases the probability of default by  {:.3f}%'.format((np.exp(0.171320) - 1)*100))\n",
    "\n",
    "print('\\n The decrease nunemployment rate decreased the probability of default by  {:.3f}%'.format((np.exp(-0.162074) - 1)*100))\n",
    "\n",
    "print('\\n The decrease in GDP rate increases the probability of default by a factor of {:.3f}%'.format((np.exp(-0.078569) - 1)*100))"
   ]
  },
  {
   "cell_type": "code",
   "execution_count": 24,
   "metadata": {},
   "outputs": [
    {
     "data": {
      "text/plain": [
       "covariate\n",
       "balance_time    0.000001\n",
       "Name: 0, dtype: float64"
      ]
     },
     "execution_count": 24,
     "metadata": {},
     "output_type": "execute_result"
    }
   ],
   "source": [
    "ctv_df = pd.DataFrame(round(ctv.params_, 6))\n",
    "ctv_df[ctv_df.index=='balance_time'][0]"
   ]
  },
  {
   "cell_type": "code",
   "execution_count": 25,
   "metadata": {},
   "outputs": [
    {
     "data": {
      "text/plain": [
       "<AxesSubplot:>"
      ]
     },
     "execution_count": 25,
     "metadata": {},
     "output_type": "execute_result"
    },
    {
     "data": {
      "image/png": "[encoded data removed]",
      "text/plain": [
       "<Figure size 432x288 with 1 Axes>"
      ]
     },
     "metadata": {
      "needs_background": "light"
     },
     "output_type": "display_data"
    }
   ],
   "source": [
    "np.exp(ctv.baseline_cumulative_hazard_).plot()"
   ]
  },
  {
   "cell_type": "markdown",
   "metadata": {},
   "source": [
    "---------------------"
   ]
  }
 ],
 "metadata": {
  "interpreter": {
   "hash": "23b65ba387c5ade8c3baf33a1c2333418758373f0e0edd0862cd39d162aec75c"
  },
  "kernelspec": {
   "display_name": "Python 3.8.12 ('pytorch')",
   "language": "python",
   "name": "python3"
  },
  "language_info": {
   "codemirror_mode": {
    "name": "ipython",
    "version": 3
   },
   "file_extension": ".py",
   "mimetype": "text/x-python",
   "name": "python",
   "nbconvert_exporter": "python",
   "pygments_lexer": "ipython3",
   "version": "3.8.12"
  },
  "orig_nbformat": 4
 },
 "nbformat": 4,
 "nbformat_minor": 2
}
